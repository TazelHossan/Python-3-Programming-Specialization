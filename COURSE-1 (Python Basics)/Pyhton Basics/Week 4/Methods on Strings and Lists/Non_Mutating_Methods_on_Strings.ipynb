{
 "cells": [
  {
   "cell_type": "markdown",
   "metadata": {},
   "source": [
    "#  some useful methods on strings. Remember that none of these methods can never change or mutate the original string, they can only produce a new one based on the old one"
   ]
  },
  {
   "cell_type": "markdown",
   "metadata": {},
   "source": [
    "# upper() method: all of the letters become capital letters. create a new string never change or mutate the original string"
   ]
  },
  {
   "cell_type": "code",
   "execution_count": 17,
   "metadata": {},
   "outputs": [
    {
     "name": "stdout",
     "output_type": "stream",
     "text": [
      "This is a string\n",
      "s1 id : 2330585648864\n",
      "THIS IS A STRING\n",
      "s2 id : 2330585159680\n"
     ]
    }
   ],
   "source": [
    "s1 = \"This is a string\"\n",
    "s2 = s1.upper()\n",
    "print(s1)\n",
    "print(\"s1 id :\",id(s1) )\n",
    "print(s2)\n",
    "print(\"s2 id :\",id(s2) )"
   ]
  },
  {
   "cell_type": "markdown",
   "metadata": {},
   "source": [
    "# lower() method :all of the letters become small letters. create a new string never change or mutate the original string"
   ]
  },
  {
   "cell_type": "code",
   "execution_count": 18,
   "metadata": {},
   "outputs": [
    {
     "name": "stdout",
     "output_type": "stream",
     "text": [
      "This is a string\n",
      "s3 id : 2330585682528\n",
      "THIS IS A STRING\n",
      "s4 id : 2330585191248\n"
     ]
    }
   ],
   "source": [
    "s3 = \"This is a string\"\n",
    "s4 = s1.upper()\n",
    "print(s3)\n",
    "print(\"s3 id :\",id(s3) )\n",
    "print(s4)\n",
    "print(\"s4 id :\",id(s4) )"
   ]
  },
  {
   "cell_type": "markdown",
   "metadata": {},
   "source": [
    "# strip() method :remove the spaces from both beginning and ending. create a new string never change or mutate the original string"
   ]
  },
  {
   "cell_type": "code",
   "execution_count": 19,
   "metadata": {},
   "outputs": [
    {
     "name": "stdout",
     "output_type": "stream",
     "text": [
      "       This is a string        \n",
      "This is a string\n"
     ]
    }
   ],
   "source": [
    "s5 =\"       This is a string        \"\n",
    "s6 = s5.strip()\n",
    "\n",
    "print(s5)\n",
    "print(s6)\n"
   ]
  },
  {
   "cell_type": "markdown",
   "metadata": {},
   "source": [
    "# lstrip() method :remove the spaces from the beginning but not ending. create a new string never change or mutate the original string"
   ]
  },
  {
   "cell_type": "code",
   "execution_count": 20,
   "metadata": {},
   "outputs": [
    {
     "name": "stdout",
     "output_type": "stream",
     "text": [
      "       This is a string        \n",
      "This is a string        \n"
     ]
    }
   ],
   "source": [
    "s7 =\"       This is a string        \"\n",
    "s8 = s5.lstrip()\n",
    "\n",
    "print(s7)\n",
    "print(s8)"
   ]
  },
  {
   "cell_type": "markdown",
   "metadata": {},
   "source": [
    "# rstrip() method :remove the spaces from the ending not beginning. create a new string never change or mutate the original string"
   ]
  },
  {
   "cell_type": "code",
   "execution_count": 21,
   "metadata": {},
   "outputs": [
    {
     "name": "stdout",
     "output_type": "stream",
     "text": [
      "       This is a string        \n",
      "       This is a string\n"
     ]
    }
   ],
   "source": [
    "s9 =\"       This is a string        \"\n",
    "s10 = s5.rstrip()\n",
    "\n",
    "print(s9)\n",
    "print(s10)"
   ]
  },
  {
   "cell_type": "markdown",
   "metadata": {},
   "source": [
    "# replace(target , new) method:replace the target string from the original string then replace it by the new one. create a new string never change or mutate the original string"
   ]
  },
  {
   "cell_type": "code",
   "execution_count": 22,
   "metadata": {},
   "outputs": [
    {
     "name": "stdout",
     "output_type": "stream",
     "text": [
      "This is a string\n"
     ]
    }
   ],
   "source": [
    "s11=\"This is a sample\"\n",
    "\n",
    "s12 = s11.replace(\"sample\",\"string\")\n",
    "print(s12)"
   ]
  },
  {
   "cell_type": "markdown",
   "metadata": {},
   "source": [
    "# count() method:take a substring ,return a value , that define how many times that substring is present on the original string"
   ]
  },
  {
   "cell_type": "code",
   "execution_count": 23,
   "metadata": {},
   "outputs": [
    {
     "name": "stdout",
     "output_type": "stream",
     "text": [
      "2\n"
     ]
    }
   ],
   "source": [
    "s14=\"Hello\"\n",
    "c = s14.count(\"l\")  # same as list\n",
    "print(c)"
   ]
  },
  {
   "cell_type": "markdown",
   "metadata": {},
   "source": [
    "# some exapmles"
   ]
  },
  {
   "cell_type": "code",
   "execution_count": 24,
   "metadata": {},
   "outputs": [
    {
     "name": "stdout",
     "output_type": "stream",
     "text": [
      "14\n",
      "tazztazztazztazztazztazztazztazztazztazztazztazztazztazz\n"
     ]
    }
   ],
   "source": [
    "s = \"this is a tazz\"\n",
    "print(len(s))\n",
    "pos = s.find(\"tazz\")\n",
    "print(s[pos:]*len(s)) # this is a new string"
   ]
  },
  {
   "cell_type": "code",
   "execution_count": 25,
   "metadata": {},
   "outputs": [
    {
     "name": "stdout",
     "output_type": "stream",
     "text": [
      "14\n",
      "tazztazztazztazztazztazztazztazztazztazztazztazztazztazz\n"
     ]
    }
   ],
   "source": [
    "s0 = \"this is a tazz\"\n",
    "print(len(s0))\n",
    "pos1 = s0.index(\"tazz\")\n",
    "print(s[pos1:]*len(s0)) # this is a new string"
   ]
  },
  {
   "cell_type": "code",
   "execution_count": null,
   "metadata": {},
   "outputs": [],
   "source": []
  }
 ],
 "metadata": {
  "kernelspec": {
   "display_name": "Python 3",
   "language": "python",
   "name": "python3"
  },
  "language_info": {
   "codemirror_mode": {
    "name": "ipython",
    "version": 3
   },
   "file_extension": ".py",
   "mimetype": "text/x-python",
   "name": "python",
   "nbconvert_exporter": "python",
   "pygments_lexer": "ipython3",
   "version": "3.7.6"
  }
 },
 "nbformat": 4,
 "nbformat_minor": 4
}
