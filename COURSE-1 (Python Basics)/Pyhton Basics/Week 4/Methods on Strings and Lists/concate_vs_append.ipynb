{
 "cells": [
  {
   "cell_type": "markdown",
   "metadata": {},
   "source": [
    "# concatenation vs append() method"
   ]
  },
  {
   "cell_type": "code",
   "execution_count": 4,
   "metadata": {},
   "outputs": [
    {
     "name": "stdout",
     "output_type": "stream",
     "text": [
      "[1, 2, 3, 4, 5]\n",
      "before id: 2371525526920\n",
      "[1, 2, 3, 4, 5, 'six']\n",
      "after id : 2371524567624\n"
     ]
    }
   ],
   "source": [
    "mylist=[1,2,3,4,5]\n",
    "print(mylist)\n",
    "print(\"before id:\" ,id(mylist))\n",
    "mylist = mylist + [\"six\"]\n",
    "print(mylist)\n",
    "print(\"after id :\" ,id(mylist))\n",
    "\n",
    "# they are two diffrent identifier that means they are diffrent "
   ]
  },
  {
   "cell_type": "code",
   "execution_count": 6,
   "metadata": {},
   "outputs": [
    {
     "name": "stdout",
     "output_type": "stream",
     "text": [
      "[1, 2, 3, 4, 5, 6]\n",
      "before id: 2371525527560\n",
      "[1, 2, 3, 4, 5, 6, 'six']\n",
      "after id : 2371525527560\n"
     ]
    }
   ],
   "source": [
    "mylist1=[1,2,3,4,5,6]\n",
    "print(mylist1)\n",
    "print(\"before id:\" ,id(mylist1))\n",
    "mylist1.append(\"six\")\n",
    "print(mylist1)\n",
    "print(\"after id :\" ,id(mylist1))\n",
    "\n",
    "# they are the same identifier that means they are same list"
   ]
  }
 ],
 "metadata": {
  "kernelspec": {
   "display_name": "Python 3",
   "language": "python",
   "name": "python3"
  },
  "language_info": {
   "codemirror_mode": {
    "name": "ipython",
    "version": 3
   },
   "file_extension": ".py",
   "mimetype": "text/x-python",
   "name": "python",
   "nbconvert_exporter": "python",
   "pygments_lexer": "ipython3",
   "version": "3.7.6"
  }
 },
 "nbformat": 4,
 "nbformat_minor": 4
}
