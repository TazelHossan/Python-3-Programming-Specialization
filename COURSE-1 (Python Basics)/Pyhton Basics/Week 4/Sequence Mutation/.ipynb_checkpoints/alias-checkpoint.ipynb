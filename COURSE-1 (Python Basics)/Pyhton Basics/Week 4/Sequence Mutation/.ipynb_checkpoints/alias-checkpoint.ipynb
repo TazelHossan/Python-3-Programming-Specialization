{
 "cells": [
  {
   "cell_type": "markdown",
   "metadata": {},
   "source": [
    "# aliasing"
   ]
  },
  {
   "cell_type": "code",
   "execution_count": 3,
   "metadata": {},
   "outputs": [
    {
     "name": "stdout",
     "output_type": "stream",
     "text": [
      "a =  [1, 2, 3, 4]\n",
      "b =  [1, 2, 3, 4]\n",
      "False\n",
      "True\n",
      "a =  [0, 2, 3, 4]\n",
      "b =  [0, 2, 3, 4]\n"
     ]
    }
   ],
   "source": [
    "a=[1,2,3,4]\n",
    "b=[1,2,3,4]\n",
    "\n",
    "print(\"a = \",a)\n",
    "print(\"b = \",b)\n",
    "print(a is b)\n",
    "#print(a in b)\n",
    "\n",
    "b= a\n",
    "\n",
    "print(a is b)\n",
    "#print(a in b)\n",
    "\n",
    "b[0]=0\n",
    "\n",
    "print(\"a = \",a)\n",
    "print(\"b = \",b)"
   ]
  },
  {
   "cell_type": "markdown",
   "metadata": {},
   "source": [
    "# now cloning"
   ]
  },
  {
   "cell_type": "code",
   "execution_count": 4,
   "metadata": {},
   "outputs": [
    {
     "name": "stdout",
     "output_type": "stream",
     "text": [
      "a =  [1, 2, 3, 4]\n",
      "b =  [1, 2, 3, 4]\n",
      "False\n",
      "False\n",
      "a =  [1, 2, 3, 4]\n",
      "b =  [0, 2, 3, 4]\n"
     ]
    }
   ],
   "source": [
    "a=[1,2,3,4]\n",
    "b=[1,2,3,4]\n",
    "\n",
    "print(\"a = \",a)\n",
    "print(\"b = \",b)\n",
    "print(a is b)\n",
    "#print(a in b)\n",
    "\n",
    "b= a[:]\n",
    "\n",
    "print(a is b)\n",
    "#print(a in b)\n",
    "\n",
    "b[0]=0\n",
    "\n",
    "print(\"a = \",a)\n",
    "print(\"b = \",b)"
   ]
  }
 ],
 "metadata": {
  "kernelspec": {
   "display_name": "Python 3",
   "language": "python",
   "name": "python3"
  },
  "language_info": {
   "codemirror_mode": {
    "name": "ipython",
    "version": 3
   },
   "file_extension": ".py",
   "mimetype": "text/x-python",
   "name": "python",
   "nbconvert_exporter": "python",
   "pygments_lexer": "ipython3",
   "version": "3.7.6"
  }
 },
 "nbformat": 4,
 "nbformat_minor": 4
}
