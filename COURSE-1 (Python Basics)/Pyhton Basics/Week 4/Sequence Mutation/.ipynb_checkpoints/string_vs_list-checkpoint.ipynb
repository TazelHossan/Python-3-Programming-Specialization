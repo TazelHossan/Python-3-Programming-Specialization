{
 "cells": [
  {
   "cell_type": "markdown",
   "metadata": {},
   "source": [
    "# same strings refer to a single string . the 'is' oerator fact , play diffrent role on string and list"
   ]
  },
  {
   "cell_type": "code",
   "execution_count": 5,
   "metadata": {},
   "outputs": [
    {
     "name": "stdout",
     "output_type": "stream",
     "text": [
      "True\n",
      "id of a= 2668377319088\n",
      "id of b= 2668377319088\n"
     ]
    }
   ],
   "source": [
    "# a , b both refer same constant pool , ans True , cause a and b are same reference\n",
    "a = \"apple\"\n",
    "b = \"apple\"\n",
    "print(a is b)\n",
    "\n",
    "# lets see their id is eual or not\n",
    "print( \"id of a=\", id(a))\n",
    "print( \"id of b=\", id(b))"
   ]
  },
  {
   "cell_type": "code",
   "execution_count": 6,
   "metadata": {},
   "outputs": [
    {
     "name": "stdout",
     "output_type": "stream",
     "text": [
      "False\n",
      "id of c= 2668377461832\n",
      "id of d= 2668377425672\n"
     ]
    }
   ],
   "source": [
    "# but list show diffrent role ,ans False ,cause , they refer diffrent list\n",
    "c = [\"a\" ,22 ,3.14 ,True]\n",
    "d = [\"a\" ,22 ,3.14 ,True]\n",
    "print(c is d)\n",
    "\n",
    "# lets see their id is eual or not\n",
    "print( \"id of c=\", id(c))\n",
    "print( \"id of d=\", id(d))"
   ]
  },
  {
   "cell_type": "code",
   "execution_count": 7,
   "metadata": {},
   "outputs": [
    {
     "name": "stdout",
     "output_type": "stream",
     "text": [
      "True\n",
      "True\n",
      "id of e= 2668377532272\n",
      "id of f= 2668377532272\n"
     ]
    }
   ],
   "source": [
    "# but in ,== operators on string\n",
    "e=\"book\"\n",
    "f=\"book\"\n",
    "print(e in f)\n",
    "print(e==f)\n",
    "\n",
    "# lets see their id is eual or not\n",
    "print( \"id of e=\", id(e))\n",
    "print( \"id of f=\", id(f))"
   ]
  },
  {
   "cell_type": "code",
   "execution_count": 8,
   "metadata": {},
   "outputs": [
    {
     "name": "stdout",
     "output_type": "stream",
     "text": [
      "False\n",
      "True\n",
      "id of g= 2668377424264\n",
      "id of h= 2668377355016\n"
     ]
    }
   ],
   "source": [
    "# but in , == operators on list\n",
    "g=[\"c\" , 5 , 7.7 , False]\n",
    "h=[\"c\" , 5 , 7.7 , False]\n",
    "print(g in h)\n",
    "print(g==h)\n",
    "\n",
    "# lets see their id is eual or not\n",
    "print( \"id of g=\", id(g))\n",
    "print( \"id of h=\", id(h))"
   ]
  }
 ],
 "metadata": {
  "kernelspec": {
   "display_name": "Python 3",
   "language": "python",
   "name": "python3"
  },
  "language_info": {
   "codemirror_mode": {
    "name": "ipython",
    "version": 3
   },
   "file_extension": ".py",
   "mimetype": "text/x-python",
   "name": "python",
   "nbconvert_exporter": "python",
   "pygments_lexer": "ipython3",
   "version": "3.7.6"
  }
 },
 "nbformat": 4,
 "nbformat_minor": 4
}
