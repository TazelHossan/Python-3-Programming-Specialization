{
 "cells": [
  {
   "cell_type": "markdown",
   "metadata": {},
   "source": [
    "# get input from user"
   ]
  },
  {
   "cell_type": "markdown",
   "metadata": {},
   "source": [
    "## x = input(\" \") function always get a string from user & return to a veriable.\n",
    "### NOTE:\n",
    "### x =raw_input(\" \") is used in pyhton 2\n",
    "### print \" \" instead of print(\" \") is used in pyhton 2"
   ]
  },
  {
   "cell_type": "code",
   "execution_count": 1,
   "metadata": {},
   "outputs": [
    {
     "name": "stdout",
     "output_type": "stream",
     "text": [
      " Please Enter Your Name:Tazel\n"
     ]
    }
   ],
   "source": [
    "name = input(\" Please Enter Your Name:\")"
   ]
  },
  {
   "cell_type": "code",
   "execution_count": 3,
   "metadata": {},
   "outputs": [
    {
     "name": "stdout",
     "output_type": "stream",
     "text": [
      " Enter a integer number : 1234\n",
      "<class 'str'>\n"
     ]
    }
   ],
   "source": [
    "int_number = input(\" Enter a integer number : \")\n",
    "\n",
    "print( type( int_number ) )\n",
    "\n",
    "# Notice input() function always return a string .\n",
    "# so we must be convert it to desired type that can be int() , float() , bool() "
   ]
  },
  {
   "cell_type": "code",
   "execution_count": 4,
   "metadata": {},
   "outputs": [
    {
     "name": "stdout",
     "output_type": "stream",
     "text": [
      " Enter a float number : 123.4\n",
      "<class 'str'>\n"
     ]
    }
   ],
   "source": [
    "float_number = input(\" Enter a float number : \")\n",
    "\n",
    "print( type( float_number ) )\n",
    "\n",
    "# Notice input() function always return a string .\n",
    "# so we must be convert it to desired type that can be int() , float() , bool() "
   ]
  },
  {
   "cell_type": "code",
   "execution_count": 5,
   "metadata": {},
   "outputs": [
    {
     "name": "stdout",
     "output_type": "stream",
     "text": [
      " Enter a bool text(True or False) : True\n",
      "<class 'str'>\n"
     ]
    }
   ],
   "source": [
    "bool_number = input(\" Enter a bool text(True or False) : \")\n",
    "\n",
    "print( type( bool_number ) )\n",
    "\n",
    "# Notice input() function always return a string .\n",
    "# so we must be convert it to desired type that can be int() , float() , bool() "
   ]
  }
 ],
 "metadata": {
  "kernelspec": {
   "display_name": "Python 3",
   "language": "python",
   "name": "python3"
  },
  "language_info": {
   "codemirror_mode": {
    "name": "ipython",
    "version": 3
   },
   "file_extension": ".py",
   "mimetype": "text/x-python",
   "name": "python",
   "nbconvert_exporter": "python",
   "pygments_lexer": "ipython3",
   "version": "3.7.6"
  }
 },
 "nbformat": 4,
 "nbformat_minor": 4
}
