{
 "cells": [
  {
   "cell_type": "markdown",
   "metadata": {},
   "source": [
    "### turtle documentation:https://docs.python.org/3.3/library/turtle.html?highlight=turtle#module-turtle"
   ]
  },
  {
   "cell_type": "code",
   "execution_count": 11,
   "metadata": {},
   "outputs": [],
   "source": [
    "import turtle #import library"
   ]
  },
  {
   "cell_type": "code",
   "execution_count": 12,
   "metadata": {},
   "outputs": [],
   "source": [
    "wn = turtle.Screen() # create a white screen"
   ]
  },
  {
   "cell_type": "code",
   "execution_count": 13,
   "metadata": {},
   "outputs": [],
   "source": [
    "# wn.bgcolor(\"lightblue\") # set the bg color of that srceen\n",
    "wn.bgpic(\"image.png\")  # set an immage"
   ]
  },
  {
   "cell_type": "code",
   "execution_count": 14,
   "metadata": {},
   "outputs": [],
   "source": [
    "myPen= turtle.Turtle() # crete an instance of Turtle() class\n",
    "myPen.color(\"red\") # set the instance color\n",
    "myPen.shape(\"turtle\") # set the shape of that instance"
   ]
  },
  {
   "cell_type": "code",
   "execution_count": 15,
   "metadata": {},
   "outputs": [],
   "source": [
    "dis = 0\n",
    "myPen.up()\n",
    "for _ in range(30):\n",
    "    myPen.stamp() # leve an impression on the canvas\n",
    "    myPen.forward(dis)\n",
    "    myPen.right(24)\n",
    "    dis += 4\n",
    "wn.exitonclick()"
   ]
  },
  {
   "cell_type": "code",
   "execution_count": null,
   "metadata": {},
   "outputs": [],
   "source": []
  }
 ],
 "metadata": {
  "kernelspec": {
   "display_name": "Python 3",
   "language": "python",
   "name": "python3"
  },
  "language_info": {
   "codemirror_mode": {
    "name": "ipython",
    "version": 3
   },
   "file_extension": ".py",
   "mimetype": "text/x-python",
   "name": "python",
   "nbconvert_exporter": "python",
   "pygments_lexer": "ipython3",
   "version": "3.7.6"
  }
 },
 "nbformat": 4,
 "nbformat_minor": 4
}
