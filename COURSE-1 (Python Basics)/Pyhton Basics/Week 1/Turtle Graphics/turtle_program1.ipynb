{
 "cells": [
  {
   "cell_type": "code",
   "execution_count": 19,
   "metadata": {},
   "outputs": [],
   "source": [
    "import turtle"
   ]
  },
  {
   "cell_type": "code",
   "execution_count": 21,
   "metadata": {},
   "outputs": [],
   "source": [
    "wn = turtle.Screen() # create a screen"
   ]
  },
  {
   "cell_type": "code",
   "execution_count": 22,
   "metadata": {},
   "outputs": [],
   "source": [
    "wn.bgcolor(\"lightgreen\") # create a bg colour"
   ]
  },
  {
   "cell_type": "code",
   "execution_count": 23,
   "metadata": {},
   "outputs": [],
   "source": [
    "myPen= turtle.Turtle() # create an instance\n",
    "myPen.pensize(5) # defined a pen size 5"
   ]
  },
  {
   "cell_type": "code",
   "execution_count": 24,
   "metadata": {},
   "outputs": [],
   "source": [
    "tazz= turtle.Turtle() # create an instance tazz\n",
    "tazz.color(\"hotpink\") # set his color"
   ]
  },
  {
   "cell_type": "code",
   "execution_count": 25,
   "metadata": {},
   "outputs": [],
   "source": [
    "# create a triangle\n",
    "myPen.forward(80) #move forward 80 unit\n",
    "myPen.left(120) # turn 120 degree\n",
    "myPen.forward(80)#move forward 80 unit\n",
    "myPen.left(120) # turn 120 degree\n",
    "myPen.forward(80)#move forward 80 unit\n",
    "myPen.left(120) # turn 120 degree"
   ]
  },
  {
   "cell_type": "code",
   "execution_count": 26,
   "metadata": {},
   "outputs": [],
   "source": [
    "myPen.right(180) #turn 180 degree right\n",
    "myPen.forward(80)#move forward 80 unit"
   ]
  },
  {
   "cell_type": "code",
   "execution_count": 27,
   "metadata": {},
   "outputs": [],
   "source": [
    "tazz.forward(50)\n",
    "tazz.left(90)\n",
    "tazz.forward(50)\n",
    "tazz.left(90)\n",
    "tazz.forward(50)\n",
    "tazz.left(90)\n",
    "tazz.forward(50)\n",
    "tazz.left(90)"
   ]
  },
  {
   "cell_type": "code",
   "execution_count": 28,
   "metadata": {},
   "outputs": [],
   "source": [
    "wn.exitonclick() # exit window"
   ]
  },
  {
   "cell_type": "code",
   "execution_count": null,
   "metadata": {},
   "outputs": [],
   "source": []
  }
 ],
 "metadata": {
  "kernelspec": {
   "display_name": "Python 3",
   "language": "python",
   "name": "python3"
  },
  "language_info": {
   "codemirror_mode": {
    "name": "ipython",
    "version": 3
   },
   "file_extension": ".py",
   "mimetype": "text/x-python",
   "name": "python",
   "nbconvert_exporter": "python",
   "pygments_lexer": "ipython3",
   "version": "3.7.6"
  }
 },
 "nbformat": 4,
 "nbformat_minor": 4
}
