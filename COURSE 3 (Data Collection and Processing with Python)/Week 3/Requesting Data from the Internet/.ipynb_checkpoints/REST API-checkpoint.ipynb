{
 "cells": [
  {
   "cell_type": "markdown",
   "metadata": {},
   "source": [
    "## REST API\n",
    "### A= Application , P =   Programming i = Interface\n",
    "### RE =  Representational ,S = State ,T =  Transfer"
   ]
  },
  {
   "cell_type": "markdown",
   "metadata": {},
   "source": [
    "#### Application Programming Interface. It's an interface that lets one computer program interact with another computer program and rest. "
   ]
  },
  {
   "cell_type": "markdown",
   "metadata": {},
   "source": [
    "### a REST API just means a website that produces data intended for another computer program to consume, rather than something intended to be displayed to people in a browser. A REST API will respond to requests in a particular format and some things are common across many APIs about the format, but some things are specific to the particular API. This week, you'll learn how to write programs in Python that interact with REST APIs. You'll learn to read the documentation in order to figure out the specific format that the API is expecting, and you'll learn how to use the Python request module to make the API calls. Finally, you'll learn about caching as a way to reduce the total number of calls that you have to make to the APIs. Before we dive into details of request APIs though, we're going to take a little detour to give you some background on what goes on behind the scenes when two computers talk to each other over the Internet. It'll give you a mental model of what's going on so that if things don't work perfectly the first time, and they never do, you'll know how to think about what might be going wrong and have a good path toward fixing it. At the end of this lesson, you'll be able to parse a URL into its component parts, the protocol HTTP or HTTPS, the host, typically a domain name, and the path. You'll also be able to use the Python request module to fetch the contents of a URL. Let's get started. I'll see you at the end."
   ]
  }
 ],
 "metadata": {
  "kernelspec": {
   "display_name": "Python 3",
   "language": "python",
   "name": "python3"
  },
  "language_info": {
   "codemirror_mode": {
    "name": "ipython",
    "version": 3
   },
   "file_extension": ".py",
   "mimetype": "text/x-python",
   "name": "python",
   "nbconvert_exporter": "python",
   "pygments_lexer": "ipython3",
   "version": "3.7.6"
  }
 },
 "nbformat": 4,
 "nbformat_minor": 4
}
