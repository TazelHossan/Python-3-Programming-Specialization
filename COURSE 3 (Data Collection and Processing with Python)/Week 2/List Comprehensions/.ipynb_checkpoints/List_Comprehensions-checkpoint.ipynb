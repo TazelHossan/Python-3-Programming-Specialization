{
 "cells": [
  {
   "cell_type": "markdown",
   "metadata": {},
   "source": [
    "# List Comprehensions"
   ]
  },
  {
   "cell_type": "raw",
   "metadata": {},
   "source": [
    "Python provides an alternative way to do map and filter operations, called a list comprehension. Many programmers find them easier to understand and write. List comprehensions are concise ways to create lists from other lists. The general syntax is:\n",
    "\n",
    "[<transformer_expression> for <loop_var> in <sequence> if <filtration_expression>]\n",
    "\n",
    "where the if clause is optional. For example,"
   ]
  },
  {
   "cell_type": "raw",
   "metadata": {},
   "source": [
    "The transformer expression is value * 2.\n",
    "The item variable is value and the sequence is things.\n",
    "This is an alternative way to perform a mapping operation.\n",
    "As with map, each item in the sequence is transformed into an item in the new list.\n",
    "Instead of the iteration happening automatically,\n",
    "however, we have adopted the syntax of the for loop which may make it easier to understand.\n",
    "\n",
    "Just as in a regular for loop, the part of the statement for value in things says to execute some code once for each item in things. Each time that code is executed, value is bound to one item from things. The code that is executed each time is the transformer expression, value * 2, rather than a block of code indented underneath the for statement. The other difference from a regular for loop is that each time the expression is evaluated, the resulting value is appended to a list. That happens automatically, without the programmer explicitly initializing an empty list or appending each item."
   ]
  },
  {
   "cell_type": "code",
   "execution_count": 1,
   "metadata": {},
   "outputs": [
    {
     "name": "stdout",
     "output_type": "stream",
     "text": [
      "[4, 10, 18]\n"
     ]
    }
   ],
   "source": [
    "things = [2, 5, 9]\n",
    "\n",
    "mylist = [value*2 for value in things] # same as mylist = map(lambda value:value*2 , things)\n",
    "\n",
    "print(mylist)\n"
   ]
  },
  {
   "cell_type": "raw",
   "metadata": {},
   "source": [
    "The if clause of a list comprehension can be used to do a filter operation. \n",
    "To perform a pure filter operation, the expression can be simply the variable that is bound to each item. \n",
    "For example, the following list comprehension will keep only the even numbers from the original list."
   ]
  },
  {
   "cell_type": "code",
   "execution_count": null,
   "metadata": {},
   "outputs": [],
   "source": [
    "def keep_evens(nums):\n",
    "    new_list = [num for num in nums if num % 2 == 0]\n",
    "    return new_list\n",
    "\n",
    "# same as filter function\n",
    "\"\"\"\n",
    "    def keep_evens(nums):\n",
    "        new_list = filter(lambda num : num%2==0 , num)\n",
    "        return list(new_list) # must be converted in list to get a list otherwise i provides a list of objects\n",
    "\"\"\"\n",
    "\n",
    "print(keep_evens([3, 4, 6, 7, 0, 1]))\n"
   ]
  }
 ],
 "metadata": {
  "kernelspec": {
   "display_name": "Python 3",
   "language": "python",
   "name": "python3"
  },
  "language_info": {
   "codemirror_mode": {
    "name": "ipython",
    "version": 3
   },
   "file_extension": ".py",
   "mimetype": "text/x-python",
   "name": "python",
   "nbconvert_exporter": "python",
   "pygments_lexer": "ipython3",
   "version": "3.7.6"
  }
 },
 "nbformat": 4,
 "nbformat_minor": 4
}
