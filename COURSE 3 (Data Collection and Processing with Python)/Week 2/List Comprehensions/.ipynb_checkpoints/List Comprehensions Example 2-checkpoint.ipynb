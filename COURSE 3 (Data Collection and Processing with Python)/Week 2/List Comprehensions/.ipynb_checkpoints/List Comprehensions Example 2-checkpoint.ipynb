{
 "cells": [
  {
   "cell_type": "markdown",
   "metadata": {},
   "source": [
    "## Write a function called longlengths that returns the lengths of those strings that have at least 4 characters. Try it with a list comprehension."
   ]
  },
  {
   "cell_type": "code",
   "execution_count": 2,
   "metadata": {},
   "outputs": [
    {
     "name": "stdout",
     "output_type": "stream",
     "text": [
      "['effrf']\n"
     ]
    }
   ],
   "source": [
    "def longlengths(str_lst):\n",
    "    return [str1 for str1 in str_lst if len(str1)>=4 ]\n",
    "\n",
    "print(longlengths([\"ssd\" , \"effrf\" ,\"d\" , \"ds\"]))"
   ]
  },
  {
   "cell_type": "code",
   "execution_count": null,
   "metadata": {},
   "outputs": [],
   "source": []
  }
 ],
 "metadata": {
  "kernelspec": {
   "display_name": "Python 3",
   "language": "python",
   "name": "python3"
  },
  "language_info": {
   "codemirror_mode": {
    "name": "ipython",
    "version": 3
   },
   "file_extension": ".py",
   "mimetype": "text/x-python",
   "name": "python",
   "nbconvert_exporter": "python",
   "pygments_lexer": "ipython3",
   "version": "3.7.6"
  }
 },
 "nbformat": 4,
 "nbformat_minor": 4
}
