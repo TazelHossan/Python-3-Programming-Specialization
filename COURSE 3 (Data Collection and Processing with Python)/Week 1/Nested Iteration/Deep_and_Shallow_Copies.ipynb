{
 "cells": [
  {
   "cell_type": "markdown",
   "metadata": {},
   "source": [
    "# Shallow Copies"
   ]
  },
  {
   "cell_type": "raw",
   "metadata": {},
   "source": [
    "When you copy a nested list, you do not also get copies of the internal lists. This means that if you perform a mutation operation on one of the original sublists, the copied version will also change. We can see this happen in the following nested list, which only has two levels."
   ]
  },
  {
   "cell_type": "code",
   "execution_count": 3,
   "metadata": {},
   "outputs": [
    {
     "name": "stdout",
     "output_type": "stream",
     "text": [
      "[['dogs', 'puppies'], ['cats', 'kittens']]\n",
      "False\n",
      "True\n",
      "[['dogs', 'puppies', ['canines']], ['cats', 'kittens']]\n",
      "-------- Now look at the copied version -----------\n",
      "[['dogs', 'puppies', ['canines']], ['cats', 'kittens']]\n"
     ]
    }
   ],
   "source": [
    "original = [['dogs', 'puppies'], ['cats', \"kittens\"]]\n",
    "copied_version = original[:]\n",
    "print(copied_version)\n",
    "print(copied_version is original)\n",
    "print(copied_version == original)\n",
    "original[0].append([\"canines\"])\n",
    "print(original)\n",
    "print(\"-------- Now look at the copied version -----------\")\n",
    "print(copied_version)\n",
    "\n"
   ]
  },
  {
   "cell_type": "markdown",
   "metadata": {},
   "source": [
    "# Deep Copies"
   ]
  },
  {
   "cell_type": "raw",
   "metadata": {},
   "source": [
    "the copied version will also change"
   ]
  },
  {
   "cell_type": "code",
   "execution_count": 5,
   "metadata": {},
   "outputs": [
    {
     "name": "stdout",
     "output_type": "stream",
     "text": [
      "[['dogs', 'puppies'], ['cats', 'kittens']]\n",
      "[['dogs', 'puppies', ['canines']], ['cats', 'kittens']]\n",
      "-------- Now look at the copied version -----------\n",
      "[['dogs', 'puppies'], ['cats', 'kittens']]\n"
     ]
    }
   ],
   "source": [
    "original = [['dogs', 'puppies'], ['cats', \"kittens\"]]\n",
    "copied_outer_list = []\n",
    "for inner_list in original:\n",
    "    copied_inner_list = []\n",
    "    for item in inner_list:\n",
    "        copied_inner_list.append(item)\n",
    "    copied_outer_list.append(copied_inner_list)\n",
    "print(copied_outer_list)\n",
    "original[0].append([\"canines\"])\n",
    "print(original)\n",
    "print(\"-------- Now look at the copied version -----------\")\n",
    "print(copied_outer_list)\n"
   ]
  },
  {
   "cell_type": "markdown",
   "metadata": {},
   "source": [
    "### Or, equivalently, you could take advantage of the slice operator to do the copying of the inner list."
   ]
  },
  {
   "cell_type": "code",
   "execution_count": 6,
   "metadata": {},
   "outputs": [
    {
     "name": "stdout",
     "output_type": "stream",
     "text": [
      "[['dogs', 'puppies'], ['cats', 'kittens']]\n",
      "[['dogs', 'puppies', ['canines']], ['cats', 'kittens']]\n",
      "-------- Now look at the copied version -----------\n",
      "[['dogs', 'puppies'], ['cats', 'kittens']]\n"
     ]
    }
   ],
   "source": [
    "original = [['dogs', 'puppies'], ['cats', \"kittens\"]]\n",
    "copied_outer_list = []\n",
    "for inner_list in original:\n",
    "    copied_inner_list = inner_list[:]\n",
    "    copied_outer_list.append(copied_inner_list)\n",
    "print(copied_outer_list)\n",
    "original[0].append([\"canines\"])\n",
    "print(original)\n",
    "print(\"-------- Now look at the copied version -----------\")\n",
    "print(copied_outer_list)\n"
   ]
  },
  {
   "cell_type": "raw",
   "metadata": {},
   "source": [
    "This process above works fine when there are only two layers or levels in a nested list. However, if we want to make a copy of a nested list that has more than two levels, then we recommend using the copy module. In the copy module there is a method called deepcopy that will take care of the operation for you."
   ]
  },
  {
   "cell_type": "code",
   "execution_count": 7,
   "metadata": {},
   "outputs": [
    {
     "name": "stdout",
     "output_type": "stream",
     "text": [
      "-------- Original -----------\n",
      "[['canines', ['dogs', 'puppies'], ['marsupials']], ['felines', ['cats', 'kittens']], 'Hi there']\n",
      "-------- deep copy -----------\n",
      "[['canines', ['dogs', 'puppies']], ['felines', ['cats', 'kittens']]]\n",
      "-------- shallow copy -----------\n",
      "[['canines', ['dogs', 'puppies'], ['marsupials']], ['felines', ['cats', 'kittens']]]\n"
     ]
    }
   ],
   "source": [
    "import copy\n",
    "original = [['canines', ['dogs', 'puppies']], ['felines', ['cats', 'kittens']]]\n",
    "shallow_copy_version = original[:]\n",
    "deeply_copied_version = copy.deepcopy(original)\n",
    "original.append(\"Hi there\")\n",
    "original[0].append([\"marsupials\"])\n",
    "print(\"-------- Original -----------\")\n",
    "print(original)\n",
    "print(\"-------- deep copy -----------\")\n",
    "print(deeply_copied_version)\n",
    "print(\"-------- shallow copy -----------\")\n",
    "print(shallow_copy_version)\n"
   ]
  },
  {
   "cell_type": "code",
   "execution_count": null,
   "metadata": {},
   "outputs": [],
   "source": []
  }
 ],
 "metadata": {
  "kernelspec": {
   "display_name": "Python 3",
   "language": "python",
   "name": "python3"
  },
  "language_info": {
   "codemirror_mode": {
    "name": "ipython",
    "version": 3
   },
   "file_extension": ".py",
   "mimetype": "text/x-python",
   "name": "python",
   "nbconvert_exporter": "python",
   "pygments_lexer": "ipython3",
   "version": "3.7.6"
  }
 },
 "nbformat": 4,
 "nbformat_minor": 4
}
