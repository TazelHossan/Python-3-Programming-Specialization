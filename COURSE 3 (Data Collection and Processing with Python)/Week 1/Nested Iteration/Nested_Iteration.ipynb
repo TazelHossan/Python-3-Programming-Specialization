{
 "cells": [
  {
   "cell_type": "markdown",
   "metadata": {},
   "source": [
    "# Nested Iteration"
   ]
  },
  {
   "cell_type": "raw",
   "metadata": {},
   "source": [
    "When you have nested data structures, especially lists and/or dictionaries, you will frequently need nested for loops to traverse them."
   ]
  },
  {
   "cell_type": "code",
   "execution_count": 1,
   "metadata": {},
   "outputs": [
    {
     "name": "stdout",
     "output_type": "stream",
     "text": [
      "level1: \n",
      "     level2: a\n",
      "     level2: b\n",
      "     level2: c\n",
      "level1: \n",
      "     level2: d\n",
      "     level2: e\n",
      "level1: \n",
      "     level2: f\n",
      "     level2: g\n",
      "     level2: h\n"
     ]
    }
   ],
   "source": [
    "nested1 = [['a', 'b', 'c'],['d', 'e'],['f', 'g', 'h']]\n",
    "for x in nested1:\n",
    "    print(\"level1: \")\n",
    "    for y in x:\n",
    "        print(\"     level2: \" + y)\n"
   ]
  },
  {
   "cell_type": "code",
   "execution_count": null,
   "metadata": {},
   "outputs": [],
   "source": []
  }
 ],
 "metadata": {
  "kernelspec": {
   "display_name": "Python 3",
   "language": "python",
   "name": "python3"
  },
  "language_info": {
   "codemirror_mode": {
    "name": "ipython",
    "version": 3
   },
   "file_extension": ".py",
   "mimetype": "text/x-python",
   "name": "python",
   "nbconvert_exporter": "python",
   "pygments_lexer": "ipython3",
   "version": "3.7.6"
  }
 },
 "nbformat": 4,
 "nbformat_minor": 4
}
