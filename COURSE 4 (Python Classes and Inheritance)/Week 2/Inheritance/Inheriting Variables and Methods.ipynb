{
 "cells": [
  {
   "cell_type": "markdown",
   "metadata": {},
   "source": [
    "# Inheriting Variables and Methods"
   ]
  },
  {
   "cell_type": "code",
   "execution_count": 11,
   "metadata": {},
   "outputs": [
    {
     "name": "stdout",
     "output_type": "stream",
     "text": [
      " name = Tazel , age = 21 , Presnt Year 2020, id number 1921\n"
     ]
    }
   ],
   "source": [
    "CURRENT_YEAR =2020\n",
    "class Person: # parent class\n",
    "    def __init__(self , name , age):\n",
    "        self.name  = name \n",
    "        self.age =age\n",
    "    def __str__(self):\n",
    "        return \" name = {} , age = {} , Presnt Year {}\".format(self.name , self.age ,CURRENT_YEAR)\n",
    "    \n",
    "class Student(Person): # inherit the person class\n",
    "    def __init__(self , name , age , id_num):\n",
    "        Person.__init__(self, name , age)\n",
    "        self.id_num = id_num\n",
    "        \n",
    "    def __str__(self):\n",
    "        return Person.__str__(self) +  \", id number {}\".format(self.id_num)\n",
    "    \n",
    "s = Student(\"Tazel\",21, 1921)\n",
    "\n",
    "print(s)\n",
    "    "
   ]
  },
  {
   "cell_type": "code",
   "execution_count": null,
   "metadata": {},
   "outputs": [],
   "source": []
  }
 ],
 "metadata": {
  "kernelspec": {
   "display_name": "Python 3",
   "language": "python",
   "name": "python3"
  },
  "language_info": {
   "codemirror_mode": {
    "name": "ipython",
    "version": 3
   },
   "file_extension": ".py",
   "mimetype": "text/x-python",
   "name": "python",
   "nbconvert_exporter": "python",
   "pygments_lexer": "ipython3",
   "version": "3.7.6"
  }
 },
 "nbformat": 4,
 "nbformat_minor": 4
}
