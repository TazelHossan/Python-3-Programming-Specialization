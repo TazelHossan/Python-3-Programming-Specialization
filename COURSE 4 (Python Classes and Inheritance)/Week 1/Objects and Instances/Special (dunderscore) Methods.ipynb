{
 "cells": [
  {
   "cell_type": "markdown",
   "metadata": {},
   "source": [
    "# Special (dunderscore) Methods"
   ]
  },
  {
   "cell_type": "code",
   "execution_count": 4,
   "metadata": {},
   "outputs": [
    {
     "name": "stdout",
     "output_type": "stream",
     "text": [
      "x = 7, y = 6\n",
      "x = 4, y = 5\n",
      "x = 11, y = 11\n",
      "x = 3, y = 1\n"
     ]
    }
   ],
   "source": [
    "class Point:\n",
    "    \"\"\" Point class for representing and manipulating x,y coordinates. \"\"\"\n",
    "\n",
    "    def __init__(self, initX, initY):\n",
    "\n",
    "        self.x = initX\n",
    "        self.y = initY\n",
    "\n",
    "    def getX(self):\n",
    "        return self.x\n",
    "\n",
    "    def getY(self):\n",
    "        return self.y\n",
    "\n",
    "    def distanceFromOrigin(self):\n",
    "        return ((self.x ** 2) + (self.y ** 2)) ** 0.5\n",
    "\n",
    "    def __str__(self):\n",
    "        return \"x = {}, y = {}\".format(self.x, self.y)\n",
    "    \n",
    "    def __add__(self,otherPoint):\n",
    "        return Point( self.x + otherPoint.x,\n",
    "                     self.y + otherPoint.y )\n",
    "    \n",
    "    def __sub__(self ,otherPoint):\n",
    "        return Point( self.x - otherPoint.x,\n",
    "                     self.y - otherPoint.y )\n",
    "        \n",
    "\n",
    "p1 = Point(7,6)\n",
    "p2 = Point(4,5)\n",
    "print(p1)\n",
    "print(p2)\n",
    "\n",
    "# print(p1 + p2)\n",
    "# produces error , because python can not understand , how to add two objects together\n",
    "# to do this ,we use a special undrscore method __add__(self,otherPoint) \n",
    "\n",
    "print(p1+p2) # now print well\n",
    "\n",
    "print(p1 - p2)"
   ]
  },
  {
   "cell_type": "code",
   "execution_count": null,
   "metadata": {},
   "outputs": [],
   "source": []
  }
 ],
 "metadata": {
  "kernelspec": {
   "display_name": "Python 3",
   "language": "python",
   "name": "python3"
  },
  "language_info": {
   "codemirror_mode": {
    "name": "ipython",
    "version": 3
   },
   "file_extension": ".py",
   "mimetype": "text/x-python",
   "name": "python",
   "nbconvert_exporter": "python",
   "pygments_lexer": "ipython3",
   "version": "3.7.6"
  }
 },
 "nbformat": 4,
 "nbformat_minor": 4
}
