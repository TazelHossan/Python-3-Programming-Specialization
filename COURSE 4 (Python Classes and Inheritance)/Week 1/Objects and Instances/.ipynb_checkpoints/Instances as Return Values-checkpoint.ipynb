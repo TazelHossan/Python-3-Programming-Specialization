{
 "cells": [
  {
   "cell_type": "markdown",
   "metadata": {},
   "source": [
    "# Instances as Return Values"
   ]
  },
  {
   "cell_type": "code",
   "execution_count": 1,
   "metadata": {},
   "outputs": [
    {
     "name": "stdout",
     "output_type": "stream",
     "text": [
      "x = 4.0, y = 8.0\n",
      "4.0\n",
      "8.0\n"
     ]
    }
   ],
   "source": [
    "class Point:\n",
    "\n",
    "    def __init__(self, initX, initY):\n",
    "\n",
    "        self.x = initX\n",
    "        self.y = initY\n",
    "\n",
    "    def getX(self):\n",
    "        return self.x\n",
    "\n",
    "    def getY(self):\n",
    "        return self.y\n",
    "\n",
    "    def distanceFromOrigin(self):\n",
    "        return ((self.x ** 2) + (self.y ** 2)) ** 0.5\n",
    "\n",
    "    def __str__(self):\n",
    "        return \"x = {}, y = {}\".format(self.x, self.y)\n",
    "\n",
    "    def halfway(self, target):\n",
    "        mx = (self.x + target.x)/2\n",
    "        my = (self.y + target.y)/2\n",
    "        return Point(mx, my)\n",
    "\n",
    "p = Point(3,4)\n",
    "q = Point(5,12)\n",
    "mid = p.halfway(q)\n",
    "\n",
    "# note that you would have exactly the same result if you instead wrote\n",
    "# mid = q.halfway(p)\n",
    "# because they are both Point objects, and the middle is the same no matter what\n",
    "\n",
    "print(mid)\n",
    "print(mid.getX())\n",
    "print(mid.getY())\n"
   ]
  },
  {
   "cell_type": "code",
   "execution_count": null,
   "metadata": {},
   "outputs": [],
   "source": []
  }
 ],
 "metadata": {
  "kernelspec": {
   "display_name": "Python 3",
   "language": "python",
   "name": "python3"
  },
  "language_info": {
   "codemirror_mode": {
    "name": "ipython",
    "version": 3
   },
   "file_extension": ".py",
   "mimetype": "text/x-python",
   "name": "python",
   "nbconvert_exporter": "python",
   "pygments_lexer": "ipython3",
   "version": "3.7.6"
  }
 },
 "nbformat": 4,
 "nbformat_minor": 4
}
