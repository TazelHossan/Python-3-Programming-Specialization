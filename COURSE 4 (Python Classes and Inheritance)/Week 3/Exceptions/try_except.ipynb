{
 "cells": [
  {
   "cell_type": "markdown",
   "metadata": {},
   "source": [
    "# try , except"
   ]
  },
  {
   "cell_type": "markdown",
   "metadata": {},
   "source": [
    "## try , except uses to handle runtime error"
   ]
  },
  {
   "cell_type": "code",
   "execution_count": 1,
   "metadata": {},
   "outputs": [
    {
     "name": "stdout",
     "output_type": "stream",
     "text": [
      "This is my right result\n",
      "Run always , even a runtime error occure\n"
     ]
    }
   ],
   "source": [
    "try:\n",
    "    print(\"This is my right result\")\n",
    "except:\n",
    "    prunt(\"There is an error in try block\")\n",
    "    \n",
    "print(\"Run always , even a runtime error occure\")"
   ]
  },
  {
   "cell_type": "code",
   "execution_count": null,
   "metadata": {},
   "outputs": [],
   "source": []
  }
 ],
 "metadata": {
  "kernelspec": {
   "display_name": "Python 3",
   "language": "python",
   "name": "python3"
  },
  "language_info": {
   "codemirror_mode": {
    "name": "ipython",
    "version": 3
   },
   "file_extension": ".py",
   "mimetype": "text/x-python",
   "name": "python",
   "nbconvert_exporter": "python",
   "pygments_lexer": "ipython3",
   "version": "3.7.6"
  }
 },
 "nbformat": 4,
 "nbformat_minor": 4
}
