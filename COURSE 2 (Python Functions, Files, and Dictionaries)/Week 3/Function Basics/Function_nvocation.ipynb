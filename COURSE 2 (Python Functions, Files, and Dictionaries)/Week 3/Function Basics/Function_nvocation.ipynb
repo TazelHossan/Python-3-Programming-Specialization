{
 "cells": [
  {
   "cell_type": "markdown",
   "metadata": {},
   "source": [
    "# Function Invocation"
   ]
  },
  {
   "cell_type": "raw",
   "metadata": {},
   "source": [
    "Defining a new function does not make the function run. To execute the function, we need a function call. This is also known as a function invocation.\n",
    "\n",
    "The way to invoke a function is to refer to it by name, followed by parentheses. Since there are no parameters for the function hello, we won’t need to put anything inside the parentheses when we call it. Once we’ve defined a function, we can call it as often as we like and its statements will be executed each time we call it.\n",
    "\n",
    "\n"
   ]
  },
  {
   "cell_type": "code",
   "execution_count": 1,
   "metadata": {},
   "outputs": [
    {
     "name": "stdout",
     "output_type": "stream",
     "text": [
      "Hello\n",
      "Glad to meet you\n",
      "<class 'function'>\n",
      "<class 'str'>\n",
      "Hey, that just printed two lines with one line of code!\n",
      "Hello\n",
      "Glad to meet you\n",
      "<class 'function'>\n",
      "<class 'str'>\n"
     ]
    }
   ],
   "source": [
    "def hello():\n",
    "    \n",
    "    print(\"Hello\")\n",
    "    print(\"Glad to meet you\")\n",
    "\n",
    "    print(type(hello)) # type():function\n",
    "    \n",
    "    print(type(\"hello\"))\n",
    "\n",
    "hello()\n",
    "print(\"Hey, that just printed two lines with one line of code!\")\n",
    "hello()  # do it again, just because we can..."
   ]
  },
  {
   "cell_type": "code",
   "execution_count": null,
   "metadata": {},
   "outputs": [],
   "source": []
  }
 ],
 "metadata": {
  "kernelspec": {
   "display_name": "Python 3",
   "language": "python",
   "name": "python3"
  },
  "language_info": {
   "codemirror_mode": {
    "name": "ipython",
    "version": 3
   },
   "file_extension": ".py",
   "mimetype": "text/x-python",
   "name": "python",
   "nbconvert_exporter": "python",
   "pygments_lexer": "ipython3",
   "version": "3.7.6"
  }
 },
 "nbformat": 4,
 "nbformat_minor": 4
}
