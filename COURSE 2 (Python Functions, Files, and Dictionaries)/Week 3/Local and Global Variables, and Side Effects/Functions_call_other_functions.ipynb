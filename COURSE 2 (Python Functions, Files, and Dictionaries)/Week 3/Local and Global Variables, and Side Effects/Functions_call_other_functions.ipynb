{
 "cells": [
  {
   "cell_type": "markdown",
   "metadata": {},
   "source": [
    "# Functions can call other functions"
   ]
  },
  {
   "cell_type": "code",
   "execution_count": 1,
   "metadata": {},
   "outputs": [
    {
     "name": "stdout",
     "output_type": "stream",
     "text": [
      "b\n"
     ]
    }
   ],
   "source": [
    "def most_common_letter(s):\n",
    "    frequencies = count_freqs(s)\n",
    "    return best_key(frequencies)\n",
    "\n",
    "def count_freqs(st):\n",
    "    d = {}\n",
    "    for c in st:\n",
    "        if c not in d:\n",
    "             d[c] = 0\n",
    "        d[c] = d[c] + 1\n",
    "    return d\n",
    "\n",
    "def best_key(dictionary):\n",
    "    ks = dictionary.keys()\n",
    "    best_key_so_far = list(ks)[0]  # Have to turn ks into a real list before using [] to select an item\n",
    "    for k in ks:\n",
    "        if dictionary[k] > dictionary[best_key_so_far]:\n",
    "            best_key_so_far = k\n",
    "    return best_key_so_far\n",
    "\n",
    "print(most_common_letter(\"abbbbbbbbbbbccccddddd\"))\n"
   ]
  }
 ],
 "metadata": {
  "kernelspec": {
   "display_name": "Python 3",
   "language": "python",
   "name": "python3"
  },
  "language_info": {
   "codemirror_mode": {
    "name": "ipython",
    "version": 3
   },
   "file_extension": ".py",
   "mimetype": "text/x-python",
   "name": "python",
   "nbconvert_exporter": "python",
   "pygments_lexer": "ipython3",
   "version": "3.7.6"
  }
 },
 "nbformat": 4,
 "nbformat_minor": 4
}
