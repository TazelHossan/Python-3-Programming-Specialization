{
 "cells": [
  {
   "cell_type": "markdown",
   "metadata": {},
   "source": [
    "# Using With to Open Files then read a file in python"
   ]
  },
  {
   "cell_type": "raw",
   "metadata": {},
   "source": [
    "This is the same as:\n",
    "with open(\"wxPython.txt\",'r') as file: = ( myfile = open(\"wxPython.txt\",'r')  )\n",
    "\n",
    "note : a colon is appear after the alias name file\n",
    "\n",
    "benefit: we dont have use file.close() . it automatically put after the file exicution"
   ]
  },
  {
   "cell_type": "code",
   "execution_count": 6,
   "metadata": {},
   "outputs": [
    {
     "name": "stdout",
     "output_type": "stream",
     "text": [
      "wxPython is a wrapper for the cross-platform GUI API (often referred to as a \"toolkit\") wxWidgets.\n",
      "which is written in C++ for the Python programming language.\n",
      "It is one of the alternatives to Tkinter.\n",
      "It is implemented as a Python extension module (native code).\n",
      "\n",
      "\n",
      "Contents\n",
      "1\tLicense\n",
      "2\tHistory\n",
      "3\tExample\n",
      "4\tProject Phoenix\n",
      "5\tApplications developed with wxPython\n",
      "6\tReferences\n",
      "6.1\tCitations\n",
      "6.2\tSources\n",
      "7\tFurther reading\n",
      "8\tExternal links\n",
      "License\n",
      "Being a wrapper, wxPython uses the same free software licence used by wxWidgets (wxWindows License)[4]â€”which is approved by Free Software Foundation and Open Source Initiative.\n",
      "\n",
      "History\n",
      "wxPython was created when Robin Dunn needed a GUI to be deployed on HP-UX systems and also on Windows 3.1 within a few weeks. While evaluating commercial solutions, he ran across Python bindings for the wxWidgets toolkit. Thus, he learned Python and, in a short time, together with Harri Pasanen, became one of the main developers of wxPython, which grew from those initial bindings.\n",
      "\n",
      "The first versions of the wrapper were created by hand. However, soon the code base became very difficult to maintain and keep synchronized with wxWidgets releases. Later versions were created with SWIG, greatly decreasing the amount of work to update the wrapper. The first \"modern\" version was announced in 1998.[1]\n",
      "\n",
      "Example\n",
      "This is a simple \"Hello world\" module, depicting the creation of the two main objects in wxPython (the main window object and the application object), followed by passing the control to the event-driven system (by calling MainLoop()) which manages the user-interactive part of the program.\n",
      "\n",
      "#!/usr/bin/env python\n",
      "\n",
      "import wx\n",
      "\n",
      "app = wx.App(False)  # Create a new app, don't redirect stdout/stderr to a window.\n",
      "frame = wx.Frame(None, wx.ID_ANY, \"Hello World\") # A Frame is a top-level window.\n",
      "frame.Show(True)     # Show the frame.\n",
      "app.MainLoop()\n",
      "Project Phoenix\n",
      "Project Phoenix, which began in 2010, is an effort to clean up the wxPython implementation and in the process make it compatible with Python 3.[5] This project is a new implementation of wxPython, focused on improving speed, maintainability and extensibility. Just like \"Classic\" wxPython, it wraps the wxWidgets C++ toolkit and provides access to the user interface portions of the wx API, enabling Python applications to have a graphical user interface on Windows, Mac or Unix systems with a native look and feel and requiring very little, if any, platform-specific code.[6]\n",
      "\n",
      "Applications developed with wxPython\n",
      "BitTorrent, a peer-to-peer BitTorrent application\n",
      "Chandler, a personal information manager\n",
      "Editra, a multi-platform text editor\n",
      "Google Drive, desktop client for the Google cloud-based storage system[7]\n",
      "GRASS GIS, a free, open source geographical information system\n",
      "MÃ©tamorphose, a batch renamer\n",
      "Phatch, a photo batch processor\n",
      "PlayOnLinux and PlayOnMac, Wine front-ends\n"
     ]
    }
   ],
   "source": [
    "with open(\"wxPython.txt\",'r') as file:\n",
    "    for line in file:\n",
    "        print( line.strip() )\n",
    "#file.close()"
   ]
  },
  {
   "cell_type": "markdown",
   "metadata": {},
   "source": [
    "# Using With to Open Files then write a file in python"
   ]
  },
  {
   "cell_type": "code",
   "execution_count": 7,
   "metadata": {},
   "outputs": [],
   "source": [
    "with open(\"newfile.txt\",'w') as file:\n",
    "    for i in range(100):\n",
    "        file.write(str(i))\n",
    "#file.close()"
   ]
  }
 ],
 "metadata": {
  "kernelspec": {
   "display_name": "Python 3",
   "language": "python",
   "name": "python3"
  },
  "language_info": {
   "codemirror_mode": {
    "name": "ipython",
    "version": 3
   },
   "file_extension": ".py",
   "mimetype": "text/x-python",
   "name": "python",
   "nbconvert_exporter": "python",
   "pygments_lexer": "ipython3",
   "version": "3.7.6"
  }
 },
 "nbformat": 4,
 "nbformat_minor": 4
}
