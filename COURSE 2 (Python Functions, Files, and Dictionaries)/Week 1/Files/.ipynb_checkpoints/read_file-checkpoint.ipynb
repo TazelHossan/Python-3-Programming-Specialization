{
 "cells": [
  {
   "cell_type": "markdown",
   "metadata": {},
   "source": [
    "# reading file in python"
   ]
  },
  {
   "cell_type": "raw",
   "metadata": {},
   "source": [
    "Python provides some functions for reading data from an existing file. There are two steps. First, you call the open function to open the file pass in two arguments. One is the string, that's the name of the file, wxPython.text. And the other says what to do with the file. In our case, R for reading. Later on, we'll see W for writing. The open function returns an object. It's a file object"
   ]
  },
  {
   "cell_type": "code",
   "execution_count": 16,
   "metadata": {},
   "outputs": [],
   "source": [
    "myfile = open(\"wxPython.txt\",'r')\n",
    "contents = myfile.read() # return the file as a string"
   ]
  },
  {
   "cell_type": "code",
   "execution_count": 17,
   "metadata": {},
   "outputs": [
    {
     "name": "stdout",
     "output_type": "stream",
     "text": [
      "wxPython is a wrapper for the cross-platform GUI API (often referred to as a \"toolkit\") wxWidgets.\n",
      "w\n"
     ]
    }
   ],
   "source": [
    "print( contents[:100]) # print 100 characters\n",
    "myfile.close() # close the file"
   ]
  },
  {
   "cell_type": "markdown",
   "metadata": {},
   "source": [
    "### print file some number of lines"
   ]
  },
  {
   "cell_type": "code",
   "execution_count": 18,
   "metadata": {},
   "outputs": [
    {
     "name": "stdout",
     "output_type": "stream",
     "text": [
      "['wxPython is a wrapper for the cross-platform GUI API (often referred to as a \"toolkit\") wxWidgets.\\n', 'which is written in C++ for the Python programming language.\\n', 'It is one of the alternatives to Tkinter.\\n', 'It is implemented as a Python extension module (native code).\\n']\n"
     ]
    }
   ],
   "source": [
    "myfile = open(\"wxPython.txt\",'r') # open the file\n",
    "lines = myfile.readlines() # it returns a list of strings, one string for each line in the file\n",
    "print(lines[:4])  # print 1 to 4 lines ,excluded 4th line\n",
    "                # /n define each line is finished\n",
    "myfile.close()"
   ]
  },
  {
   "cell_type": "markdown",
   "metadata": {},
   "source": [
    "## NOTICE:"
   ]
  },
  {
   "cell_type": "raw",
   "metadata": {},
   "source": [
    "note: you might notice something a little strange here, which is that we get these blank lines. The reason for that is that each of the strings, you'll remember had that newline character at the end, which meant do a carriage return. The print function always does a a carriage return, and so we're getting two of those. One is starting us on a new line, and the other one is starting us on a new line again, so we get a blank line. What if we didn't want to have that extra blank line? Well, you've seen the dot strip method before. I can strip the whitespace from the beginning and ends of each of these lines, so the dot strip method gets rid of any whitespace at the beginning or the end."
   ]
  },
  {
   "cell_type": "code",
   "execution_count": 19,
   "metadata": {},
   "outputs": [
    {
     "name": "stdout",
     "output_type": "stream",
     "text": [
      "wxPython is a wrapper for the cross-platform GUI API (often referred to as a \"toolkit\") wxWidgets.\n",
      "\n",
      "which is written in C++ for the Python programming language.\n",
      "\n",
      "It is one of the alternatives to Tkinter.\n",
      "\n",
      "It is implemented as a Python extension module (native code).\n",
      "\n"
     ]
    }
   ],
   "source": [
    "myfile = open(\"wxPython.txt\",'r') # open the file\n",
    "lines = myfile.readlines() # it returns a list of strings, one string for each line in the file\n",
    "\n",
    "for line in lines[:4]: # it iterates through these four lines\n",
    "    print(line)\n",
    "    \n",
    "myfile.close()"
   ]
  },
  {
   "cell_type": "markdown",
   "metadata": {},
   "source": [
    "## Now apply the strip() method to get feed the extra new line .it feeds blank spaces from the both sides . There are two strip() method .1:lstrip():feeds the left blank characters or spaces ,2:rstrip() feeds the right blank speces"
   ]
  },
  {
   "cell_type": "code",
   "execution_count": 20,
   "metadata": {},
   "outputs": [
    {
     "name": "stdout",
     "output_type": "stream",
     "text": [
      "wxPython is a wrapper for the cross-platform GUI API (often referred to as a \"toolkit\") wxWidgets.\n",
      "which is written in C++ for the Python programming language.\n",
      "It is one of the alternatives to Tkinter.\n",
      "It is implemented as a Python extension module (native code).\n"
     ]
    }
   ],
   "source": [
    "myfile = open(\"wxPython.txt\",'r') # open the file\n",
    "lines = myfile.readlines() # it returns a list of strings, one string for each line in the file\n",
    "\n",
    "for line in lines[:4]: # it iterates through these four lines\n",
    "    #line=line.strip()\n",
    "    #print(line)\n",
    "    print(line.strip())\n",
    "    \n",
    "myfile.close()"
   ]
  },
  {
   "cell_type": "markdown",
   "metadata": {},
   "source": [
    "## now run the program that is the same as before but itarete throuh the file not \"lines=myfile.readlines()\" as i create befor which was a list . Important note is: when we not use readlines() to create a list , then the file object can not be sliced like myfile[:3]"
   ]
  },
  {
   "cell_type": "code",
   "execution_count": 21,
   "metadata": {},
   "outputs": [
    {
     "name": "stdout",
     "output_type": "stream",
     "text": [
      "wxPython is a wrapper for the cross-platform GUI API (often referred to as a \"toolkit\") wxWidgets.\n",
      "which is written in C++ for the Python programming language.\n",
      "It is one of the alternatives to Tkinter.\n",
      "It is implemented as a Python extension module (native code).\n",
      "\n",
      "\n",
      "Contents\n",
      "1\tLicense\n",
      "2\tHistory\n",
      "3\tExample\n",
      "4\tProject Phoenix\n",
      "5\tApplications developed with wxPython\n",
      "6\tReferences\n",
      "6.1\tCitations\n",
      "6.2\tSources\n",
      "7\tFurther reading\n",
      "8\tExternal links\n",
      "License\n",
      "Being a wrapper, wxPython uses the same free software licence used by wxWidgets (wxWindows License)[4]â€”which is approved by Free Software Foundation and Open Source Initiative.\n",
      "\n",
      "History\n",
      "wxPython was created when Robin Dunn needed a GUI to be deployed on HP-UX systems and also on Windows 3.1 within a few weeks. While evaluating commercial solutions, he ran across Python bindings for the wxWidgets toolkit. Thus, he learned Python and, in a short time, together with Harri Pasanen, became one of the main developers of wxPython, which grew from those initial bindings.\n",
      "\n",
      "The first versions of the wrapper were created by hand. However, soon the code base became very difficult to maintain and keep synchronized with wxWidgets releases. Later versions were created with SWIG, greatly decreasing the amount of work to update the wrapper. The first \"modern\" version was announced in 1998.[1]\n",
      "\n",
      "Example\n",
      "This is a simple \"Hello world\" module, depicting the creation of the two main objects in wxPython (the main window object and the application object), followed by passing the control to the event-driven system (by calling MainLoop()) which manages the user-interactive part of the program.\n",
      "\n",
      "#!/usr/bin/env python\n",
      "\n",
      "import wx\n",
      "\n",
      "app = wx.App(False)  # Create a new app, don't redirect stdout/stderr to a window.\n",
      "frame = wx.Frame(None, wx.ID_ANY, \"Hello World\") # A Frame is a top-level window.\n",
      "frame.Show(True)     # Show the frame.\n",
      "app.MainLoop()\n",
      "Project Phoenix\n",
      "Project Phoenix, which began in 2010, is an effort to clean up the wxPython implementation and in the process make it compatible with Python 3.[5] This project is a new implementation of wxPython, focused on improving speed, maintainability and extensibility. Just like \"Classic\" wxPython, it wraps the wxWidgets C++ toolkit and provides access to the user interface portions of the wx API, enabling Python applications to have a graphical user interface on Windows, Mac or Unix systems with a native look and feel and requiring very little, if any, platform-specific code.[6]\n",
      "\n",
      "Applications developed with wxPython\n",
      "BitTorrent, a peer-to-peer BitTorrent application\n",
      "Chandler, a personal information manager\n",
      "Editra, a multi-platform text editor\n",
      "Google Drive, desktop client for the Google cloud-based storage system[7]\n",
      "GRASS GIS, a free, open source geographical information system\n",
      "MÃ©tamorphose, a batch renamer\n",
      "Phatch, a photo batch processor\n",
      "PlayOnLinux and PlayOnMac, Wine front-ends\n"
     ]
    }
   ],
   "source": [
    "myfile = open(\"wxPython.txt\",'r') # open the file\n",
    "#lines = myfile.readlines() # it returns a list of strings, one string for each line in the file\n",
    "\n",
    "for line in myfile: # it iterates through file.note: can not sliced like myfile[0:3]\n",
    "    #line=line.strip()\n",
    "    #print(line)\n",
    "    print(line.strip())\n",
    "    \n",
    "myfile.close()"
   ]
  },
  {
   "cell_type": "markdown",
   "metadata": {},
   "source": [
    "## find how many lines in the file contains use readlines() method , it returns a list"
   ]
  },
  {
   "cell_type": "code",
   "execution_count": 22,
   "metadata": {},
   "outputs": [
    {
     "name": "stdout",
     "output_type": "stream",
     "text": [
      "48\n"
     ]
    }
   ],
   "source": [
    "myfile = open(\"wxPython.txt\",'r') # open the file\n",
    "lines = myfile.readlines() # it returns a list of strings, one string for each line in the file\n",
    "\n",
    "print( len(lines)) # count the num of items in the list:lines\n",
    "    \n",
    "myfile.close()"
   ]
  },
  {
   "cell_type": "markdown",
   "metadata": {},
   "source": [
    "## find how many characters in the file contains use read() method,it returns a string"
   ]
  },
  {
   "cell_type": "code",
   "execution_count": 23,
   "metadata": {},
   "outputs": [
    {
     "name": "stdout",
     "output_type": "stream",
     "text": [
      "2889\n"
     ]
    }
   ],
   "source": [
    "myfile = open(\"wxPython.txt\",'r')\n",
    "contents = myfile.read() # return the file as a string\n",
    "\n",
    "print( len(contents))"
   ]
  }
 ],
 "metadata": {
  "kernelspec": {
   "display_name": "Python 3",
   "language": "python",
   "name": "python3"
  },
  "language_info": {
   "codemirror_mode": {
    "name": "ipython",
    "version": 3
   },
   "file_extension": ".py",
   "mimetype": "text/x-python",
   "name": "python",
   "nbconvert_exporter": "python",
   "pygments_lexer": "ipython3",
   "version": "3.7.6"
  }
 },
 "nbformat": 4,
 "nbformat_minor": 4
}
