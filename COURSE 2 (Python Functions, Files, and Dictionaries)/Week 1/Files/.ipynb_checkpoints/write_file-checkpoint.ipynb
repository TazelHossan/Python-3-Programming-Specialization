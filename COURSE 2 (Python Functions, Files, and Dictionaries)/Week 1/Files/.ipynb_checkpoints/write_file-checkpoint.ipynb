{
 "cells": [
  {
   "cell_type": "markdown",
   "metadata": {},
   "source": [
    "# writing file in python"
   ]
  },
  {
   "cell_type": "raw",
   "metadata": {},
   "source": [
    "note:\n",
    "    1.write into a file must be a str type .\n",
    "    2.file must be closed .otherwise it does no write to txt file\n",
    "    3. add \\n to print the new line.otherwise it stores row data\n",
    "    \n",
    "    "
   ]
  },
  {
   "cell_type": "code",
   "execution_count": 12,
   "metadata": {},
   "outputs": [],
   "source": [
    "myfile = open(\"write.txt\",'w') # create a file object , open it as a write mode\n",
    "\n",
    "for i in range(10):\n",
    "    num = i*i\n",
    "    #print(num)\n",
    "    myfile.write(str(num) + \"\\n\")\n",
    "\n",
    "myfile.close()"
   ]
  },
  {
   "cell_type": "markdown",
   "metadata": {},
   "source": [
    "# now print the file using as string:\n",
    "### way-1"
   ]
  },
  {
   "cell_type": "code",
   "execution_count": 13,
   "metadata": {},
   "outputs": [
    {
     "name": "stdout",
     "output_type": "stream",
     "text": [
      "0\n",
      "1\n",
      "4\n",
      "9\n",
      "16\n",
      "25\n",
      "36\n",
      "49\n",
      "64\n",
      "81\n",
      "\n"
     ]
    }
   ],
   "source": [
    "myfile = open(\"write.txt\", 'r')\n",
    "contents = myfile.read() # return the file as a string\n",
    "\n",
    "print( contents[:100]) # print 100 characters\n",
    "myfile.close() # close the file"
   ]
  },
  {
   "cell_type": "markdown",
   "metadata": {},
   "source": [
    "### way-2"
   ]
  },
  {
   "cell_type": "code",
   "execution_count": 14,
   "metadata": {},
   "outputs": [
    {
     "name": "stdout",
     "output_type": "stream",
     "text": [
      "0\n",
      "1\n",
      "4\n",
      "9\n",
      "16\n",
      "25\n",
      "36\n",
      "49\n",
      "64\n",
      "81\n",
      "\n"
     ]
    }
   ],
   "source": [
    "myfile = open(\"write.txt\", 'r')\n",
    "print( myfile.read()[:100])\n"
   ]
  },
  {
   "cell_type": "markdown",
   "metadata": {},
   "source": [
    "# now print the file using as list"
   ]
  },
  {
   "cell_type": "code",
   "execution_count": 15,
   "metadata": {},
   "outputs": [
    {
     "name": "stdout",
     "output_type": "stream",
     "text": [
      "['0\\n', '1\\n', '4\\n', '9\\n']\n"
     ]
    }
   ],
   "source": [
    "myfile = open(\"write.txt\",'r') # open the file\n",
    "lines = myfile.readlines() # it returns a list of strings, one string for each line in the file\n",
    "print(lines[:4])  # print 1 to 4 lines ,excluded 4th line\n",
    "                # /n define each line is finished\n",
    "myfile.close()"
   ]
  },
  {
   "cell_type": "code",
   "execution_count": null,
   "metadata": {},
   "outputs": [],
   "source": []
  }
 ],
 "metadata": {
  "kernelspec": {
   "display_name": "Python 3",
   "language": "python",
   "name": "python3"
  },
  "language_info": {
   "codemirror_mode": {
    "name": "ipython",
    "version": 3
   },
   "file_extension": ".py",
   "mimetype": "text/x-python",
   "name": "python",
   "nbconvert_exporter": "python",
   "pygments_lexer": "ipython3",
   "version": "3.7.6"
  }
 },
 "nbformat": 4,
 "nbformat_minor": 4
}
