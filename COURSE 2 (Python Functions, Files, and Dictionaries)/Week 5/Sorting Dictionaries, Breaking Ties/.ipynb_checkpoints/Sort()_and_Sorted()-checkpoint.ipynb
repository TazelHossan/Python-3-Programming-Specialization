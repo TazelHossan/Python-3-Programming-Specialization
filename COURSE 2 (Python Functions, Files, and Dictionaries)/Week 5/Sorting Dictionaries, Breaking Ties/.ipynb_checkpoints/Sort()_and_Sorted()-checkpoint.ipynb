{
 "cells": [
  {
   "cell_type": "markdown",
   "metadata": {},
   "source": [
    "# Sorting with Sort() and Sorted() methods\n"
   ]
  },
  {
   "cell_type": "raw",
   "metadata": {},
   "source": [
    "Note that the sort method does not return a sorted version of the list. In fact, it returns the value None. But the list itself has been modified. This kind of operation that works by having a side effect on the list can be quite confusing.\n",
    "\n",
    "In this course, we will generally use an alternative way of sorting, the function sorted rather than the method sort. Because it is a function rather than a method, it is invoked on a list by passing the list as a parameter inside the parentheses, rather than putting the list before the period. More importantly, sorted does not change the original list. Instead, it returns a new list."
   ]
  },
  {
   "cell_type": "markdown",
   "metadata": {},
   "source": [
    "# sort()"
   ]
  },
  {
   "cell_type": "code",
   "execution_count": 1,
   "metadata": {},
   "outputs": [
    {
     "name": "stdout",
     "output_type": "stream",
     "text": [
      "[-2, 1, 3, 4, 7]\n",
      "['Apple', 'Blueberry', 'Cherry']\n"
     ]
    }
   ],
   "source": [
    "L1 = [1, 7, 4, -2, 3]\n",
    "L2 = [\"Cherry\", \"Apple\", \"Blueberry\"]\n",
    "\n",
    "L1.sort()\n",
    "print(L1)\n",
    "L2.sort()\n",
    "print(L2)\n"
   ]
  },
  {
   "cell_type": "markdown",
   "metadata": {},
   "source": [
    "# sorted()"
   ]
  },
  {
   "cell_type": "code",
   "execution_count": 2,
   "metadata": {},
   "outputs": [
    {
     "name": "stdout",
     "output_type": "stream",
     "text": [
      "['Apple', 'Blueberry', 'Cherry']\n",
      "['Apple', 'Blueberry', 'Cherry']\n",
      "['Cherry', 'Apple', 'Blueberry']\n",
      "----\n",
      "['Apple', 'Blueberry', 'Cherry']\n",
      "None\n"
     ]
    }
   ],
   "source": [
    "L2 = [\"Cherry\", \"Apple\", \"Blueberry\"]\n",
    "\n",
    "L3 = sorted(L2)\n",
    "print(L3)\n",
    "print(sorted(L2))\n",
    "print(L2) # unchanged\n",
    "\n",
    "print(\"----\")\n",
    "\n",
    "L2.sort()\n",
    "print(L2)\n",
    "print(L2.sort())  #return value is None\n"
   ]
  },
  {
   "cell_type": "markdown",
   "metadata": {},
   "source": [
    "# sort() has disadvantages"
   ]
  },
  {
   "cell_type": "raw",
   "metadata": {},
   "source": [
    "it modifies the original lis"
   ]
  },
  {
   "cell_type": "code",
   "execution_count": 3,
   "metadata": {},
   "outputs": [
    {
     "name": "stdout",
     "output_type": "stream",
     "text": [
      "None\n"
     ]
    }
   ],
   "source": [
    "# \"apple\".sort() produce an error\n",
    "l=[1,2,0]\n",
    "print(l.sort()) # it does not return anything"
   ]
  },
  {
   "cell_type": "markdown",
   "metadata": {},
   "source": [
    "# But sorted() can do this "
   ]
  },
  {
   "cell_type": "code",
   "execution_count": 5,
   "metadata": {},
   "outputs": [
    {
     "name": "stdout",
     "output_type": "stream",
     "text": [
      "['a', 'e', 'l', 'p', 'p']\n",
      "['a', 'e', 'l', 'p', 'p']\n"
     ]
    }
   ],
   "source": [
    "# it alaways returns a list\n",
    "\n",
    "lst = sorted(\"apple\") # altough string is immutable\n",
    "print(lst)\n",
    "\n",
    "print(sorted(\"apple\"))"
   ]
  },
  {
   "cell_type": "markdown",
   "metadata": {},
   "source": [
    "# Optional reverse parameter"
   ]
  },
  {
   "cell_type": "code",
   "execution_count": 6,
   "metadata": {},
   "outputs": [
    {
     "name": "stdout",
     "output_type": "stream",
     "text": [
      "['Cherry', 'Blueberry', 'Apple']\n"
     ]
    }
   ],
   "source": [
    "L2 = [\"Cherry\", \"Apple\", \"Blueberry\"]\n",
    "print(sorted(L2, reverse=True))"
   ]
  },
  {
   "cell_type": "code",
   "execution_count": null,
   "metadata": {},
   "outputs": [],
   "source": [
    "L2 = [\"Cherry\", \"Apple\", \"Blueberry\"]\n",
    "print(sorted(L2, reverse=False)) # same a sorted(L2) , by default False"
   ]
  },
  {
   "cell_type": "markdown",
   "metadata": {},
   "source": [
    "# Optional key parameter"
   ]
  },
  {
   "cell_type": "raw",
   "metadata": {},
   "source": [
    "Now, we can pass the absolute function to sorted in order to specify that we want the items sorted in order of their absolute value, rather than in order of their actual value.\n",
    "\n"
   ]
  },
  {
   "cell_type": "code",
   "execution_count": 7,
   "metadata": {},
   "outputs": [
    {
     "name": "stdout",
     "output_type": "stream",
     "text": [
      "[1, -2, 3, 4, 7]\n",
      "[7, 4, 3, -2, 1]\n"
     ]
    }
   ],
   "source": [
    "L1 = [1, 7, 4, -2, 3]\n",
    "\n",
    "def absolute(x):\n",
    "    if x >= 0:\n",
    "        return x\n",
    "    else:\n",
    "        return -x\n",
    "\n",
    "L2 = sorted(L1, key=absolute)\n",
    "print(L2)\n",
    "\n",
    "#or in reverse order\n",
    "print(sorted(L1, reverse=True, key=absolute)) # one line of code to get absolute values ans its sorted order\n"
   ]
  }
 ],
 "metadata": {
  "kernelspec": {
   "display_name": "Python 3",
   "language": "python",
   "name": "python3"
  },
  "language_info": {
   "codemirror_mode": {
    "name": "ipython",
    "version": 3
   },
   "file_extension": ".py",
   "mimetype": "text/x-python",
   "name": "python",
   "nbconvert_exporter": "python",
   "pygments_lexer": "ipython3",
   "version": "3.7.6"
  }
 },
 "nbformat": 4,
 "nbformat_minor": 4
}
