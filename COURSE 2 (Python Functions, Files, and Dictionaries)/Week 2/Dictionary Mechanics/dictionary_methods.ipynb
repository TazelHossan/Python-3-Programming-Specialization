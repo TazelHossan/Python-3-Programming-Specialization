{
 "cells": [
  {
   "cell_type": "markdown",
   "metadata": {},
   "source": [
    "# Dictionary Methods:keys() , values() , itens()"
   ]
  },
  {
   "cell_type": "markdown",
   "metadata": {},
   "source": [
    "## keys() method:access the of the dictionary , thar are unique"
   ]
  },
  {
   "cell_type": "raw",
   "metadata": {},
   "source": [
    "initialize the dictionary:\n",
    "\n",
    "    1.dict1={}\n",
    "    2.dict2=dict()\n",
    "    \n",
    "dictionary is unordered but list , string , tuple orderd\n",
    "thats way we can not access a value by index from the dictionary\n",
    "    "
   ]
  },
  {
   "cell_type": "code",
   "execution_count": 1,
   "metadata": {},
   "outputs": [
    {
     "name": "stdout",
     "output_type": "stream",
     "text": [
      "appele\n",
      "orange\n",
      "banana\n"
     ]
    }
   ],
   "source": [
    "inventory = { 'appele' : 430 , 'orange' : 312 , 'banana' : 300}\n",
    "\n",
    "for key in inventory.keys():\n",
    "    print(key)"
   ]
  },
  {
   "cell_type": "markdown",
   "metadata": {},
   "source": [
    "# python automatically go through over key by default . same as inventory.keys() = inventory in for loop"
   ]
  },
  {
   "cell_type": "code",
   "execution_count": 4,
   "metadata": {},
   "outputs": [
    {
     "name": "stdout",
     "output_type": "stream",
     "text": [
      "appele\n",
      "orange\n",
      "banana\n"
     ]
    }
   ],
   "source": [
    "inventory = { 'appele' : 430 , 'orange' : 312 , 'banana' : 300}\n",
    "\n",
    "for key in inventory:\n",
    "    print(key)"
   ]
  },
  {
   "cell_type": "code",
   "execution_count": 3,
   "metadata": {},
   "outputs": [
    {
     "name": "stdout",
     "output_type": "stream",
     "text": [
      "appele  has a value : 430\n",
      "orange  has a value : 312\n",
      "banana  has a value : 300\n"
     ]
    }
   ],
   "source": [
    "inventory = { 'appele' : 430 , 'orange' : 312 , 'banana' : 300}\n",
    "\n",
    "for key in inventory.keys():\n",
    "    print(key , \" has a value :\",inventory[key])"
   ]
  },
  {
   "cell_type": "markdown",
   "metadata": {},
   "source": [
    "## Inventory.items()  gives us a list of key value pairs as \"tuples\"\n",
    "## Inventory.keys()  gives us a list of key\n",
    "## Inventory.values()  gives us a list of value"
   ]
  },
  {
   "cell_type": "code",
   "execution_count": 7,
   "metadata": {},
   "outputs": [
    {
     "name": "stdout",
     "output_type": "stream",
     "text": [
      "dict_items([('appele', 430), ('orange', 312), ('banana', 300)])\n",
      "dict_keys(['appele', 'orange', 'banana'])\n",
      "dict_values([430, 312, 300])\n"
     ]
    }
   ],
   "source": [
    "print( inventory.items() )\n",
    "\n",
    "print( inventory.keys() )\n",
    "\n",
    "print( inventory.values() )"
   ]
  },
  {
   "cell_type": "markdown",
   "metadata": {},
   "source": [
    "# in operator in dictionary"
   ]
  },
  {
   "cell_type": "code",
   "execution_count": 9,
   "metadata": {},
   "outputs": [
    {
     "name": "stdout",
     "output_type": "stream",
     "text": [
      "True\n",
      "False\n"
     ]
    }
   ],
   "source": [
    "inventory = { 'apple' : 430 , 'orange' : 312 , 'banana' : 300}\n",
    "\n",
    "print( 'apple' in inventory) # check through the key not a value , here 'apple' is a key\n",
    "\n",
    "inventory1 = { 'fruit' : \"apple\" , 'orange' : 312 , 'banana' : 300}\n",
    "\n",
    "print('apple' in inventory1) # see \"apple\" is not appear in key , thats way print Flase\n"
   ]
  },
  {
   "cell_type": "markdown",
   "metadata": {},
   "source": [
    "# get() method in dictionary"
   ]
  },
  {
   "cell_type": "code",
   "execution_count": 17,
   "metadata": {},
   "outputs": [
    {
     "name": "stdout",
     "output_type": "stream",
     "text": [
      "430\n",
      "312\n",
      "300\n",
      "None\n",
      "100\n",
      "430 100000\n",
      "{'apple': 430, 'orange': 312, 'banana': 300, 'app': 430}\n"
     ]
    }
   ],
   "source": [
    "inventory = { 'apple' : 430 , 'orange' : 312 , 'banana' : 300}\n",
    "\n",
    "print( inventory.get(\"apple\"))\n",
    "\n",
    "print( inventory.get(\"orange\"))\n",
    "\n",
    "print( inventory.get(\"banana\"))\n",
    "\n",
    "print( inventory.get(\"chhery\")) # notice : chhery is not belong to dict , print : None\n",
    "\n",
    "print( inventory.get(\"rose\" , 100)) # notice: rose is not appear in dict , print default value :100\n",
    "\n",
    "print( inventory.get(\"apple\") , 100000) # notice: apple appear in dict , thats way print inventory[\"apple\"] and print the default value:100\n",
    "\n",
    "inventory[\"app\"] = inventory.get(\"apple\" , 0) # notice:apple in dict ,thats why inveventory[\"app\"] = 430\n",
    "\n",
    "print(inventory)"
   ]
  }
 ],
 "metadata": {
  "kernelspec": {
   "display_name": "Python 3",
   "language": "python",
   "name": "python3"
  },
  "language_info": {
   "codemirror_mode": {
    "name": "ipython",
    "version": 3
   },
   "file_extension": ".py",
   "mimetype": "text/x-python",
   "name": "python",
   "nbconvert_exporter": "python",
   "pygments_lexer": "ipython3",
   "version": "3.7.6"
  }
 },
 "nbformat": 4,
 "nbformat_minor": 4
}
