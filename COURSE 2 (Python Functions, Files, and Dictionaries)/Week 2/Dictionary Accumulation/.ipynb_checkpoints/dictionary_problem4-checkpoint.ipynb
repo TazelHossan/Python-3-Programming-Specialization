{
 "cells": [
  {
   "cell_type": "markdown",
   "metadata": {},
   "source": [
    "## Create a dictionary called d that keeps track of all the characters in the string placement and notes how many times each character was seen. Then, find the key with the lowest value in this dictionary and assign that key to min_value"
   ]
  },
  {
   "cell_type": "code",
   "execution_count": null,
   "metadata": {},
   "outputs": [],
   "source": [
    "placement = \"Beaches are cool places to visit in spring however the Mackinaw Bridge is near. Most people visit Mackinaw later since the island is a cool place to explore.\"\n",
    "d=dict()\n",
    "for ch in placement:\n",
    "    if ch not in d:\n",
    "        d[ch]=0\n",
    "        \n",
    "    d[ch] +=1\n",
    "    \n",
    "min_value=list( d.keys() )[0]\n",
    "for key in d:\n",
    "    if d[key]<d[min_value]:\n",
    "        min_value=key\n",
    "print( d[min_value])\n"
   ]
  }
 ],
 "metadata": {
  "kernelspec": {
   "display_name": "Python 3",
   "language": "python",
   "name": "python3"
  },
  "language_info": {
   "codemirror_mode": {
    "name": "ipython",
    "version": 3
   },
   "file_extension": ".py",
   "mimetype": "text/x-python",
   "name": "python",
   "nbconvert_exporter": "python",
   "pygments_lexer": "ipython3",
   "version": "3.7.6"
  }
 },
 "nbformat": 4,
 "nbformat_minor": 4
}
