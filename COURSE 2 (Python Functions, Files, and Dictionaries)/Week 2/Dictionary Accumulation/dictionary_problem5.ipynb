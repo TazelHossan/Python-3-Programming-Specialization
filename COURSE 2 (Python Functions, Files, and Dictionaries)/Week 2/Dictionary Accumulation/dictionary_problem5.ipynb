{
 "cells": [
  {
   "cell_type": "markdown",
   "metadata": {},
   "source": [
    "## Create a dictionary called lett_d that keeps track of all of the characters in the string product and notes how many times each character was seen. Then, find the key with the highest value in this dictionary and assign that key to max_value"
   ]
  },
  {
   "cell_type": "code",
   "execution_count": 1,
   "metadata": {},
   "outputs": [
    {
     "name": "stdout",
     "output_type": "stream",
     "text": [
      "4\n"
     ]
    }
   ],
   "source": [
    "product = \"iphone and android phones\"\n",
    "lett_d=dict()\n",
    "for ch in product:\n",
    "    if ch not in lett_d:\n",
    "        lett_d[ch]=0\n",
    "    lett_d[ch]+=1\n",
    "    \n",
    "max_value=list(lett_d.keys() )[0]\n",
    "for key in lett_d:\n",
    "    if lett_d[key]>lett_d[max_value]:\n",
    "        max_value=key\n",
    "        \n",
    "print(lett_d[max_value])\n",
    "        \n"
   ]
  }
 ],
 "metadata": {
  "kernelspec": {
   "display_name": "Python 3",
   "language": "python",
   "name": "python3"
  },
  "language_info": {
   "codemirror_mode": {
    "name": "ipython",
    "version": 3
   },
   "file_extension": ".py",
   "mimetype": "text/x-python",
   "name": "python",
   "nbconvert_exporter": "python",
   "pygments_lexer": "ipython3",
   "version": "3.7.6"
  }
 },
 "nbformat": 4,
 "nbformat_minor": 4
}
