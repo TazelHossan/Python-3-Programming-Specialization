{
 "cells": [
  {
   "cell_type": "markdown",
   "metadata": {},
   "source": [
    "## ind out how often the letter ‘t’ occurs, we can accumulate the result in a count variable"
   ]
  },
  {
   "cell_type": "code",
   "execution_count": null,
   "metadata": {},
   "outputs": [],
   "source": [
    "f = open('wxPython.txt', 'r')\n",
    "txt = f.read()\n",
    "# now txt is one long string containing all the characters\n",
    "t_count = 0 #initialize the accumulator variable\n",
    "for c in txt:\n",
    "    if c == 't':\n",
    "        t_count = t_count + 1   #increment the counter\n",
    "print(\"t: \" + str(t_count) + \" occurrences\")\n"
   ]
  },
  {
   "cell_type": "markdown",
   "metadata": {},
   "source": [
    "## We can accumulate counts for more than one character as we traverse the text. Suppose, for example, we wanted to compare the counts of ‘t’ and ‘s’ in the text.\n",
    "\n"
   ]
  },
  {
   "cell_type": "code",
   "execution_count": null,
   "metadata": {},
   "outputs": [],
   "source": [
    "f = open('wxPython.txt.txt', 'r')\n",
    "txt = f.read()\n",
    "# now txt is one long string containing all the characters\n",
    "t_count = 0 #initialize the accumulator variable\n",
    "s_count = 0 # initialize the s counter accumulator as well\n",
    "for c in txt:\n",
    "    if c == 't':\n",
    "        t_count = t_count + 1   #increment the t counter\n",
    "    elif c == 's':\n",
    "        s_count = s_count + 1\n",
    "print(\"t: \" + str(t_count) + \" occurrences\")\n",
    "print(\"s: \" + str(s_count) + \" occurrences\")\n"
   ]
  },
  {
   "cell_type": "raw",
   "metadata": {},
   "source": [
    "OK, but you can see this is going to get tedious if we try to accumulate counts for all the letters. We will have to initialize a lot of accumulators, and there will be a very long if..elif..elif statement. Using a dictionary, we can do a lot better.\n",
    "\n",
    "One dictionary can hold all of the accumulator variables. Each key in the dictionary will be one letter, and the corresponding value will be the count so far of how many times that letter has occurred."
   ]
  },
  {
   "cell_type": "code",
   "execution_count": null,
   "metadata": {},
   "outputs": [],
   "source": [
    "f = open('scarlet.txt', 'r')\n",
    "txt = f.read()\n",
    "# now txt is one long string containing all the characters\n",
    "x = {} # start with an empty dictionary\n",
    "x['t'] = 0  # initialize the t counter\n",
    "x['s'] = 0  # initialize the s counter\n",
    "for c in txt:\n",
    "    if c == 't':\n",
    "        x['t'] = x['t'] + 1  # increment the t counter\n",
    "    elif c == 's':\n",
    "        x['s'] = x['s'] + 1  # increment the s counter\n",
    "\n",
    "print(\"t: \" + str(x['t']) + \" occurrences\")\n",
    "print(\"s: \" + str(x['s']) + \" occurrences\")\n"
   ]
  },
  {
   "cell_type": "raw",
   "metadata": {},
   "source": [
    "This hasn’t really improved things yet, but look closely at lines 8-11 in the code above. Whichever character we’re seeing, t or s, we’re incrementing the counter for that character. So lines 9 and 11 could really be the same."
   ]
  },
  {
   "cell_type": "code",
   "execution_count": null,
   "metadata": {},
   "outputs": [],
   "source": [
    "f = open('scarlet.txt', 'r')\n",
    "txt = f.read()\n",
    "# now txt is one long string containing all the characters\n",
    "x = {} # start with an empty dictionary\n",
    "x['t'] = 0  # intiialize the t counter\n",
    "x['s'] = 0  # initialize the s counter\n",
    "for c in txt:\n",
    "    if c == 't':\n",
    "        x[c] = x[c] + 1   # increment the t counter\n",
    "    elif c == 's':\n",
    "        x[c] = x[c] + 1   # increment the s counter\n",
    "\n",
    "print(\"t: \" + str(x['t']) + \" occurrences\")\n",
    "print(\"s: \" + str(x['s']) + \" occurrences\")\n"
   ]
  },
  {
   "cell_type": "raw",
   "metadata": {},
   "source": [
    "Notice that in the for loop, we no longer need to explicitly ask whether the current letter is an ‘s’ or ‘t’. The increment step on line 11 works for the counter associated with whatever the current character is. Our code is now accumulating counts for all letters, not just ‘s’ and ‘t’."
   ]
  },
  {
   "cell_type": "code",
   "execution_count": null,
   "metadata": {},
   "outputs": [],
   "source": [
    "f = open('scarlet.txt', 'r')\n",
    "txt = f.read()\n",
    "# now txt is one long string containing all the characters\n",
    "x = {} # start with an empty dictionary\n",
    "for c in txt:\n",
    "    if c not in x:\n",
    "        # we have not seen this character before, so initialize a counter for it\n",
    "        x[c] = 0\n",
    "\n",
    "    #whether we've seen it before or not, increment its counter\n",
    "    x[c] = x[c] + 1\n",
    "\n",
    "print(\"t: \" + str(x['t']) + \" occurrences\")\n",
    "print(\"s: \" + str(x['s']) + \" occurrences\")\n"
   ]
  },
  {
   "cell_type": "code",
   "execution_count": null,
   "metadata": {},
   "outputs": [],
   "source": [
    "f = open('scarlet.txt', 'r')\n",
    "txt = f.read()\n",
    "# now txt is one long string containing all the characters\n",
    "letter_counts = {} # start with an empty dictionary\n",
    "for c in txt:\n",
    "    if c not in letter_counts:\n",
    "        # we have not seen this character before, so initialize a counter for it\n",
    "        letter_counts[c] = 0\n",
    "\n",
    "    #whether we've seen it before or not, increment its counter\n",
    "    letter_counts[c] = letter_counts[c] + 1\n",
    "\n",
    "for c in letter_counts.keys():\n",
    "    print(c + \": \" + str(letter_counts[c]) + \" occurrences\")\n"
   ]
  }
 ],
 "metadata": {
  "kernelspec": {
   "display_name": "Python 3",
   "language": "python",
   "name": "python3"
  },
  "language_info": {
   "codemirror_mode": {
    "name": "ipython",
    "version": 3
   },
   "file_extension": ".py",
   "mimetype": "text/x-python",
   "name": "python",
   "nbconvert_exporter": "python",
   "pygments_lexer": "ipython3",
   "version": "3.7.6"
  }
 },
 "nbformat": 4,
 "nbformat_minor": 4
}
